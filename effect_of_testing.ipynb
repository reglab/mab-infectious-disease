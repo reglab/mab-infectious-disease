{
 "cells": [
  {
   "cell_type": "code",
   "execution_count": null,
   "metadata": {},
   "outputs": [],
   "source": [
    "import numpy as np \n",
    "import matplotlib.pyplot as plt \n",
    "import matplotlib as mpl \n",
    "import glob \n",
    "import pickle\n",
    "from cycler import cycler\n",
    "\n",
    "from utils import minmax_containment, experiment_trial, gen_regions\n",
    "from model import Ct"
   ]
  },
  {
   "cell_type": "markdown",
   "metadata": {},
   "source": [
    "## Effect of Testing"
   ]
  },
  {
   "cell_type": "code",
   "execution_count": null,
   "metadata": {},
   "outputs": [],
   "source": [
    "timesteps = 50\n",
    "\n",
    "c0 = 1\n",
    "alpha = .6\n",
    "beta = 0.001\n",
    "\n",
    "n_cases = [] \n",
    "test_hist = [0]\n",
    "\n",
    "n_cases = {0: [c0], 10: [c0], 50: [c0], 100: [c0], 150: [c0], 250: [c0]}\n",
    "test_hists = {0: [0], 10: [0], 50: [0], 100: [0], 150: [0], 250: [0]}\n",
    "\n",
    "for t in range(1, timesteps): \n",
    "    \n",
    "    for k in n_cases.keys():\n",
    "    \n",
    "        n_cases[k].append(Ct(t, test_hists[k], alpha, beta, 1000, c0))\n",
    "        test_hists[k].append(k)\n",
    "    "
   ]
  },
  {
   "cell_type": "code",
   "execution_count": null,
   "metadata": {},
   "outputs": [],
   "source": [
    "mpl.rcParams['figure.figsize'] = (10,5)\n",
    "mpl.rcParams['font.family'] = 'Times'\n",
    "mpl.rcParams['font.size'] = '17'\n",
    "mpl.rcParams['axes.linewidth'] = 0.4\n",
    "mpl.rcParams['axes.edgecolor'] = 'gray'\n",
    "mpl.rcParams['text.usetex'] = True"
   ]
  },
  {
   "cell_type": "code",
   "execution_count": null,
   "metadata": {},
   "outputs": [],
   "source": [
    "ax = plt.gca()\n",
    "colormap = plt.get_cmap('viridis')\n",
    "ax.set_prop_cycle(\n",
    "    (cycler(color=[colormap(k) for k in np.linspace(0, 1, 7)]))\n",
    ")\n",
    "\n",
    "for k, v in n_cases.items(): \n",
    "    plt.plot(range(len(v)), v, label=k, lw=3)\n",
    "\n",
    "plt.title(f\"Effect of Testing, $\\\\alpha=0.6$, $N=1000$, $C(0)=1$\")\n",
    "plt.ylabel('No. infected')\n",
    "plt.xlabel('Time')\n",
    "plt.legend(title='No. tests')\n",
    "plt.savefig('local/figs/testing.png', bbox_inches='tight', dpi=300)\n",
    "plt.show()\n"
   ]
  }
 ],
 "metadata": {
  "kernelspec": {
   "display_name": "Python 3",
   "language": "python",
   "name": "python3"
  },
  "language_info": {
   "codemirror_mode": {
    "name": "ipython",
    "version": 3
   },
   "file_extension": ".py",
   "mimetype": "text/x-python",
   "name": "python",
   "nbconvert_exporter": "python",
   "pygments_lexer": "ipython3",
   "version": "3.8.5"
  }
 },
 "nbformat": 4,
 "nbformat_minor": 5
}
